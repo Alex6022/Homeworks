{
 "cells": [
  {
   "cell_type": "code",
   "execution_count": 39,
   "metadata": {},
   "outputs": [
    {
     "name": "stdout",
     "output_type": "stream",
     "text": [
      "2.7073176150800704e-25\n"
     ]
    }
   ],
   "source": [
    "import pandas as pd\n",
    "import numpy as np\n",
    "import matplotlib.pyplot as plt\n",
    "from sklearn.linear_model import LinearRegression\n",
    "import sklearn.metrics as me\n",
    "from sklearn.metrics import mean_squared_error\n",
    "\n",
    "\n",
    "train = pd.read_csv('train.csv')\n",
    "test = pd.read_csv('test.csv').drop(columns=[\"Id\"]).to_numpy()\n",
    "\n",
    "xTrain = train.drop(columns=[\"y\", \"Id\"]).to_numpy()\n",
    "yTrain = train[\"y\"].to_numpy().reshape(-1, 1)\n",
    "\n",
    "reg = LinearRegression().fit(xTrain, yTrain)\n",
    "yPred = reg.predict(test)\n",
    "\n",
    "sample = pd.read_csv('sample.csv')\n",
    "\n",
    "df = pd.DataFrame({'Id': sample['Id'], 'y': yPred.reshape(-1)})\n",
    "\n",
    "df.to_csv('submission.csv', index=False)\n",
    "\n",
    "folds = 5\n",
    "kf = KFold(n_splits=folds)\n",
    "kf.get_n_splits(xTrain)\n",
    "\n",
    "rmse = np.zeros(folds)\n",
    "\n",
    "for i, (train_index, test_index) in enumerate(kf.split(xTrain)):\n",
    "    X_train, X_test = xTrain[train_index], xTrain[test_index]\n",
    "    y_train, y_test = yTrain[train_index], yTrain[test_index]\n",
    "\n",
    "    reg = LinearRegression().fit(X_train, y_train)\n",
    "    yPred = reg.predict(X_test)\n",
    "\n",
    "    rmse[i] = me.mean_squared_error(y_test, yPred)\n",
    "\n",
    "print(np.average(rmse))"
   ]
  }
 ],
 "metadata": {
  "kernelspec": {
   "display_name": "IML",
   "language": "python",
   "name": "python3"
  },
  "language_info": {
   "codemirror_mode": {
    "name": "ipython",
    "version": 3
   },
   "file_extension": ".py",
   "mimetype": "text/x-python",
   "name": "python",
   "nbconvert_exporter": "python",
   "pygments_lexer": "ipython3",
   "version": "3.9.16"
  },
  "orig_nbformat": 4
 },
 "nbformat": 4,
 "nbformat_minor": 2
}
