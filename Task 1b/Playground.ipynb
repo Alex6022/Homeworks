{
 "cells": [
  {
   "cell_type": "code",
   "execution_count": 2,
   "metadata": {},
   "outputs": [
    {
     "name": "stdout",
     "output_type": "stream",
     "text": [
      "[1.00000000e-05 1.77827941e-05 3.16227766e-05 5.62341325e-05\n",
      " 1.00000000e-04 1.77827941e-04 3.16227766e-04 5.62341325e-04\n",
      " 1.00000000e-03 1.77827941e-03 3.16227766e-03 5.62341325e-03\n",
      " 1.00000000e-02 1.77827941e-02 3.16227766e-02 5.62341325e-02\n",
      " 1.00000000e-01 1.77827941e-01 3.16227766e-01 5.62341325e-01\n",
      " 1.00000000e+00 1.77827941e+00 3.16227766e+00 5.62341325e+00\n",
      " 1.00000000e+01 1.77827941e+01 3.16227766e+01 5.62341325e+01\n",
      " 1.00000000e+02 1.77827941e+02 3.16227766e+02 5.62341325e+02\n",
      " 1.00000000e+03 1.77827941e+03 3.16227766e+03 5.62341325e+03\n",
      " 1.00000000e+04 1.77827941e+04 3.16227766e+04 5.62341325e+04\n",
      " 1.00000000e+05]\n"
     ]
    }
   ],
   "source": [
    "import numpy as np\n",
    "\n",
    "print(np.logspace(-5, 5, 41))"
   ]
  }
 ],
 "metadata": {
  "kernelspec": {
   "display_name": "base",
   "language": "python",
   "name": "python3"
  },
  "language_info": {
   "codemirror_mode": {
    "name": "ipython",
    "version": 3
   },
   "file_extension": ".py",
   "mimetype": "text/x-python",
   "name": "python",
   "nbconvert_exporter": "python",
   "pygments_lexer": "ipython3",
   "version": "3.9.12"
  },
  "orig_nbformat": 4
 },
 "nbformat": 4,
 "nbformat_minor": 2
}
