{
 "cells": [
  {
   "cell_type": "code",
   "execution_count": 6,
   "metadata": {},
   "outputs": [
    {
     "ename": "InvalidSelectorException",
     "evalue": "Message: invalid selector: An invalid or illegal selector was specified\n  (Session info: MicrosoftEdge=113.0.1774.50)\nStacktrace:\nBacktrace:\n\tGetHandleVerifier [0x00007FF77BE54AF2+67490]\n\tMicrosoft::Applications::Events::EventProperty::~EventProperty [0x00007FF77BDEB262+782450]\n\t(No symbol) [0x00007FF77BB8C646]\n\t(No symbol) [0x00007FF77BB916B2]\n\t(No symbol) [0x00007FF77BB93364]\n\t(No symbol) [0x00007FF77BB93450]\n\t(No symbol) [0x00007FF77BBCF4F6]\n\t(No symbol) [0x00007FF77BBCFB8A]\n\t(No symbol) [0x00007FF77BC09817]\n\t(No symbol) [0x00007FF77BBEDF8F]\n\t(No symbol) [0x00007FF77BBC3751]\n\t(No symbol) [0x00007FF77BC06BC5]\n\t(No symbol) [0x00007FF77BBEDD23]\n\t(No symbol) [0x00007FF77BBC2794]\n\t(No symbol) [0x00007FF77BBC19B0]\n\t(No symbol) [0x00007FF77BBC2F04]\n\tMicrosoft::Applications::Events::ILogManager::DispatchEventBroadcast [0x00007FF77C0190F3+1301571]\n\t(No symbol) [0x00007FF77BC4B951]\n\tMicrosoft::Applications::Events::EventProperty::~EventProperty [0x00007FF77BD346B1+33985]\n\tMicrosoft::Applications::Events::EventProperty::~EventProperty [0x00007FF77BD2CAE5+2293]\n\tMicrosoft::Applications::Events::ILogManager::DispatchEventBroadcast [0x00007FF77C017E53+1296803]\n\tMicrosoft::Applications::Events::EventProperty::~EventProperty [0x00007FF77BDF25A9+811961]\n\tMicrosoft::Applications::Events::EventProperty::~EventProperty [0x00007FF77BDEEF24+798004]\n\tMicrosoft::Applications::Events::EventProperty::~EventProperty [0x00007FF77BDEF01C+798252]\n\tMicrosoft::Applications::Events::EventProperty::~EventProperty [0x00007FF77BDE50D1+757473]\n\tBaseThreadInitThunk [0x00007FFC18567604+20]\n\tRtlUserThreadStart [0x00007FFC188426A1+33]\n",
     "output_type": "error",
     "traceback": [
      "\u001b[1;31m---------------------------------------------------------------------------\u001b[0m",
      "\u001b[1;31mInvalidSelectorException\u001b[0m                  Traceback (most recent call last)",
      "Cell \u001b[1;32mIn[6], line 15\u001b[0m\n\u001b[0;32m     12\u001b[0m driver\u001b[39m.\u001b[39mget(url)\n\u001b[0;32m     14\u001b[0m \u001b[39m# Get button and click it\u001b[39;00m\n\u001b[1;32m---> 15\u001b[0m python_button \u001b[39m=\u001b[39m driver\u001b[39m.\u001b[39;49mfind_element(By\u001b[39m.\u001b[39;49mCSS_SELECTOR, \u001b[39m'\u001b[39;49m\u001b[39mli:contains(\u001b[39;49m\u001b[39m\"\u001b[39;49m\u001b[39mInformation\u001b[39;49m\u001b[39m\"\u001b[39;49m\u001b[39m)\u001b[39;49m\u001b[39m'\u001b[39;49m)\n\u001b[0;32m     16\u001b[0m python_button\u001b[39m.\u001b[39mclick() \u001b[39m#click load more button\u001b[39;00m\n\u001b[0;32m     18\u001b[0m \u001b[39m# Pass to BS4\u001b[39;00m\n",
      "File \u001b[1;32mc:\\Users\\wiea\\Anaconda3\\envs\\COMBI\\lib\\site-packages\\selenium\\webdriver\\remote\\webdriver.py:831\u001b[0m, in \u001b[0;36mWebDriver.find_element\u001b[1;34m(self, by, value)\u001b[0m\n\u001b[0;32m    828\u001b[0m     by \u001b[39m=\u001b[39m By\u001b[39m.\u001b[39mCSS_SELECTOR\n\u001b[0;32m    829\u001b[0m     value \u001b[39m=\u001b[39m \u001b[39mf\u001b[39m\u001b[39m'\u001b[39m\u001b[39m[name=\u001b[39m\u001b[39m\"\u001b[39m\u001b[39m{\u001b[39;00mvalue\u001b[39m}\u001b[39;00m\u001b[39m\"\u001b[39m\u001b[39m]\u001b[39m\u001b[39m'\u001b[39m\n\u001b[1;32m--> 831\u001b[0m \u001b[39mreturn\u001b[39;00m \u001b[39mself\u001b[39;49m\u001b[39m.\u001b[39;49mexecute(Command\u001b[39m.\u001b[39;49mFIND_ELEMENT, {\u001b[39m\"\u001b[39;49m\u001b[39musing\u001b[39;49m\u001b[39m\"\u001b[39;49m: by, \u001b[39m\"\u001b[39;49m\u001b[39mvalue\u001b[39;49m\u001b[39m\"\u001b[39;49m: value})[\u001b[39m\"\u001b[39m\u001b[39mvalue\u001b[39m\u001b[39m\"\u001b[39m]\n",
      "File \u001b[1;32mc:\\Users\\wiea\\Anaconda3\\envs\\COMBI\\lib\\site-packages\\selenium\\webdriver\\remote\\webdriver.py:440\u001b[0m, in \u001b[0;36mWebDriver.execute\u001b[1;34m(self, driver_command, params)\u001b[0m\n\u001b[0;32m    438\u001b[0m response \u001b[39m=\u001b[39m \u001b[39mself\u001b[39m\u001b[39m.\u001b[39mcommand_executor\u001b[39m.\u001b[39mexecute(driver_command, params)\n\u001b[0;32m    439\u001b[0m \u001b[39mif\u001b[39;00m response:\n\u001b[1;32m--> 440\u001b[0m     \u001b[39mself\u001b[39;49m\u001b[39m.\u001b[39;49merror_handler\u001b[39m.\u001b[39;49mcheck_response(response)\n\u001b[0;32m    441\u001b[0m     response[\u001b[39m\"\u001b[39m\u001b[39mvalue\u001b[39m\u001b[39m\"\u001b[39m] \u001b[39m=\u001b[39m \u001b[39mself\u001b[39m\u001b[39m.\u001b[39m_unwrap_value(response\u001b[39m.\u001b[39mget(\u001b[39m\"\u001b[39m\u001b[39mvalue\u001b[39m\u001b[39m\"\u001b[39m, \u001b[39mNone\u001b[39;00m))\n\u001b[0;32m    442\u001b[0m     \u001b[39mreturn\u001b[39;00m response\n",
      "File \u001b[1;32mc:\\Users\\wiea\\Anaconda3\\envs\\COMBI\\lib\\site-packages\\selenium\\webdriver\\remote\\errorhandler.py:245\u001b[0m, in \u001b[0;36mErrorHandler.check_response\u001b[1;34m(self, response)\u001b[0m\n\u001b[0;32m    243\u001b[0m         alert_text \u001b[39m=\u001b[39m value[\u001b[39m\"\u001b[39m\u001b[39malert\u001b[39m\u001b[39m\"\u001b[39m]\u001b[39m.\u001b[39mget(\u001b[39m\"\u001b[39m\u001b[39mtext\u001b[39m\u001b[39m\"\u001b[39m)\n\u001b[0;32m    244\u001b[0m     \u001b[39mraise\u001b[39;00m exception_class(message, screen, stacktrace, alert_text)  \u001b[39m# type: ignore[call-arg]  # mypy is not smart enough here\u001b[39;00m\n\u001b[1;32m--> 245\u001b[0m \u001b[39mraise\u001b[39;00m exception_class(message, screen, stacktrace)\n",
      "\u001b[1;31mInvalidSelectorException\u001b[0m: Message: invalid selector: An invalid or illegal selector was specified\n  (Session info: MicrosoftEdge=113.0.1774.50)\nStacktrace:\nBacktrace:\n\tGetHandleVerifier [0x00007FF77BE54AF2+67490]\n\tMicrosoft::Applications::Events::EventProperty::~EventProperty [0x00007FF77BDEB262+782450]\n\t(No symbol) [0x00007FF77BB8C646]\n\t(No symbol) [0x00007FF77BB916B2]\n\t(No symbol) [0x00007FF77BB93364]\n\t(No symbol) [0x00007FF77BB93450]\n\t(No symbol) [0x00007FF77BBCF4F6]\n\t(No symbol) [0x00007FF77BBCFB8A]\n\t(No symbol) [0x00007FF77BC09817]\n\t(No symbol) [0x00007FF77BBEDF8F]\n\t(No symbol) [0x00007FF77BBC3751]\n\t(No symbol) [0x00007FF77BC06BC5]\n\t(No symbol) [0x00007FF77BBEDD23]\n\t(No symbol) [0x00007FF77BBC2794]\n\t(No symbol) [0x00007FF77BBC19B0]\n\t(No symbol) [0x00007FF77BBC2F04]\n\tMicrosoft::Applications::Events::ILogManager::DispatchEventBroadcast [0x00007FF77C0190F3+1301571]\n\t(No symbol) [0x00007FF77BC4B951]\n\tMicrosoft::Applications::Events::EventProperty::~EventProperty [0x00007FF77BD346B1+33985]\n\tMicrosoft::Applications::Events::EventProperty::~EventProperty [0x00007FF77BD2CAE5+2293]\n\tMicrosoft::Applications::Events::ILogManager::DispatchEventBroadcast [0x00007FF77C017E53+1296803]\n\tMicrosoft::Applications::Events::EventProperty::~EventProperty [0x00007FF77BDF25A9+811961]\n\tMicrosoft::Applications::Events::EventProperty::~EventProperty [0x00007FF77BDEEF24+798004]\n\tMicrosoft::Applications::Events::EventProperty::~EventProperty [0x00007FF77BDEF01C+798252]\n\tMicrosoft::Applications::Events::EventProperty::~EventProperty [0x00007FF77BDE50D1+757473]\n\tBaseThreadInitThunk [0x00007FFC18567604+20]\n\tRtlUserThreadStart [0x00007FFC188426A1+33]\n"
     ]
    }
   ],
   "source": [
    "import requests\n",
    "from selenium import webdriver\n",
    "from selenium.webdriver.common.by import By\n",
    "from bs4 import BeautifulSoup\n",
    "\n",
    "# Define the URL of the webpage\n",
    "url = \"https://onlinelibrary.wiley.com/doi/full/10.1002/admi.202201828\"\n",
    "\n",
    "# create a new Firefox session\n",
    "driver = webdriver.Edge()\n",
    "driver.implicitly_wait(30)\n",
    "driver.get(url)\n",
    "\n",
    "# Get button and click it\n",
    "python_button = driver.find_element(By.CSS_SELECTOR, 'li:contains(\"Information\")')\n",
    "python_button.click() #click load more button\n",
    "\n",
    "# Pass to BS4\n",
    "soup=BeautifulSoup(driver.page_source)\n",
    "\n",
    "# Find the element containing \"Full text views\"\n",
    "views_element = soup.find(\"div\", class_=\"number-of-downloads\")\n",
    "\n",
    "if views_element:\n",
    "    # Extract the number of full text views\n",
    "    views_number = views_element.find(\"span\").text.strip()\n",
    "\n",
    "    print(\"Full text views:\", views_number)\n",
    "else:\n",
    "    print(\"Full text views not found.\")"
   ]
  },
  {
   "cell_type": "code",
   "execution_count": 1,
   "metadata": {},
   "outputs": [],
   "source": [
    "# selenium 4\n",
    "from selenium import webdriver\n",
    "from selenium.webdriver.edge.service import Service as EdgeService\n",
    "from webdriver_manager.microsoft import EdgeChromiumDriverManager\n",
    "\n",
    "driver = webdriver.Edge(service=EdgeService(EdgeChromiumDriverManager().install()))"
   ]
  },
  {
   "cell_type": "code",
   "execution_count": 6,
   "metadata": {},
   "outputs": [
    {
     "name": "stdout",
     "output_type": "stream",
     "text": [
      "Collecting selenium==4.9.0\n",
      "  Downloading selenium-4.9.0-py3-none-any.whl (6.5 MB)\n",
      "     ---------------------------------------- 0.0/6.5 MB ? eta -:--:--\n",
      "     -- ------------------------------------- 0.4/6.5 MB 8.7 MB/s eta 0:00:01\n",
      "     ----- ---------------------------------- 1.0/6.5 MB 12.2 MB/s eta 0:00:01\n",
      "     --------- ------------------------------ 1.5/6.5 MB 12.0 MB/s eta 0:00:01\n",
      "     ------------ --------------------------- 2.0/6.5 MB 11.8 MB/s eta 0:00:01\n",
      "     -------------- ------------------------- 2.4/6.5 MB 11.8 MB/s eta 0:00:01\n",
      "     ------------------- -------------------- 3.1/6.5 MB 11.8 MB/s eta 0:00:01\n",
      "     ---------------------- ----------------- 3.7/6.5 MB 11.7 MB/s eta 0:00:01\n",
      "     ------------------------- -------------- 4.2/6.5 MB 11.7 MB/s eta 0:00:01\n",
      "     ----------------------------- ---------- 4.8/6.5 MB 11.7 MB/s eta 0:00:01\n",
      "     -------------------------------- ------- 5.3/6.5 MB 11.8 MB/s eta 0:00:01\n",
      "     ----------------------------------- ---- 5.9/6.5 MB 11.8 MB/s eta 0:00:01\n",
      "     ---------------------------------------  6.4/6.5 MB 11.8 MB/s eta 0:00:01\n",
      "     ---------------------------------------  6.5/6.5 MB 11.6 MB/s eta 0:00:01\n",
      "     ---------------------------------------- 6.5/6.5 MB 10.5 MB/s eta 0:00:00\n",
      "Collecting trio-websocket~=0.9\n",
      "  Downloading trio_websocket-0.10.2-py3-none-any.whl (17 kB)\n",
      "Requirement already satisfied: urllib3[socks]~=1.26 in c:\\users\\wiea\\anaconda3\\envs\\combi\\lib\\site-packages (from selenium==4.9.0) (1.26.15)\n",
      "Requirement already satisfied: certifi>=2021.10.8 in c:\\users\\wiea\\anaconda3\\envs\\combi\\lib\\site-packages (from selenium==4.9.0) (2023.5.7)\n",
      "Collecting trio~=0.17\n",
      "  Downloading trio-0.22.0-py3-none-any.whl (384 kB)\n",
      "     ---------------------------------------- 0.0/384.9 kB ? eta -:--:--\n",
      "     ------------------------------------  378.9/384.9 kB 11.9 MB/s eta 0:00:01\n",
      "     -------------------------------------- 384.9/384.9 kB 8.0 MB/s eta 0:00:00\n",
      "Requirement already satisfied: idna in c:\\users\\wiea\\anaconda3\\envs\\combi\\lib\\site-packages (from trio~=0.17->selenium==4.9.0) (3.4)\n",
      "Collecting async-generator>=1.9\n",
      "  Downloading async_generator-1.10-py3-none-any.whl (18 kB)\n",
      "Requirement already satisfied: cffi>=1.14 in c:\\users\\wiea\\anaconda3\\envs\\combi\\lib\\site-packages (from trio~=0.17->selenium==4.9.0) (1.15.1)\n",
      "Collecting sortedcontainers\n",
      "  Downloading sortedcontainers-2.4.0-py2.py3-none-any.whl (29 kB)\n",
      "Requirement already satisfied: attrs>=19.2.0 in c:\\users\\wiea\\anaconda3\\envs\\combi\\lib\\site-packages (from trio~=0.17->selenium==4.9.0) (22.1.0)\n",
      "Requirement already satisfied: sniffio in c:\\users\\wiea\\anaconda3\\envs\\combi\\lib\\site-packages (from trio~=0.17->selenium==4.9.0) (1.2.0)\n",
      "Collecting exceptiongroup>=1.0.0rc9\n",
      "  Downloading exceptiongroup-1.1.1-py3-none-any.whl (14 kB)\n",
      "Collecting outcome\n",
      "  Downloading outcome-1.2.0-py2.py3-none-any.whl (9.7 kB)\n",
      "Collecting wsproto>=0.14\n",
      "  Downloading wsproto-1.2.0-py3-none-any.whl (24 kB)\n",
      "Requirement already satisfied: PySocks!=1.5.7,<2.0,>=1.5.6 in c:\\users\\wiea\\anaconda3\\envs\\combi\\lib\\site-packages (from urllib3[socks]~=1.26->selenium==4.9.0) (1.7.1)\n",
      "Requirement already satisfied: pycparser in c:\\users\\wiea\\anaconda3\\envs\\combi\\lib\\site-packages (from cffi>=1.14->trio~=0.17->selenium==4.9.0) (2.21)\n",
      "Collecting h11<1,>=0.9.0\n",
      "  Downloading h11-0.14.0-py3-none-any.whl (58 kB)\n",
      "     ---------------------------------------- 0.0/58.3 kB ? eta -:--:--\n",
      "     ---------------------------------------- 58.3/58.3 kB 3.0 MB/s eta 0:00:00\n",
      "Installing collected packages: sortedcontainers, outcome, h11, exceptiongroup, async-generator, wsproto, trio, trio-websocket, selenium\n",
      "  Attempting uninstall: selenium\n",
      "    Found existing installation: selenium 3.141.0\n",
      "    Uninstalling selenium-3.141.0:\n",
      "      Successfully uninstalled selenium-3.141.0\n",
      "Successfully installed async-generator-1.10 exceptiongroup-1.1.1 h11-0.14.0 outcome-1.2.0 selenium-4.9.0 sortedcontainers-2.4.0 trio-0.22.0 trio-websocket-0.10.2 wsproto-1.2.0\n",
      "Note: you may need to restart the kernel to use updated packages.\n"
     ]
    }
   ],
   "source": [
    "pip install selenium==4.9.0"
   ]
  }
 ],
 "metadata": {
  "kernelspec": {
   "display_name": "COMBI",
   "language": "python",
   "name": "python3"
  },
  "language_info": {
   "codemirror_mode": {
    "name": "ipython",
    "version": 3
   },
   "file_extension": ".py",
   "mimetype": "text/x-python",
   "name": "python",
   "nbconvert_exporter": "python",
   "pygments_lexer": "ipython3",
   "version": "3.10.4"
  },
  "orig_nbformat": 4
 },
 "nbformat": 4,
 "nbformat_minor": 2
}
